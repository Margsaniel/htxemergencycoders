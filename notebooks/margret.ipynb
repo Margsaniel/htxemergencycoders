{
 "cells": [
  {
   "cell_type": "code",
   "execution_count": 20,
   "metadata": {},
   "outputs": [],
   "source": [
    "import pandas as pd \n",
    "import matplotlib.pyplot as plt\n",
    "import numpy as np"
   ]
  },
  {
   "cell_type": "code",
   "execution_count": 42,
   "metadata": {},
   "outputs": [
    {
     "data": {
      "text/html": [
       "<div>\n",
       "<style scoped>\n",
       "    .dataframe tbody tr th:only-of-type {\n",
       "        vertical-align: middle;\n",
       "    }\n",
       "\n",
       "    .dataframe tbody tr th {\n",
       "        vertical-align: top;\n",
       "    }\n",
       "\n",
       "    .dataframe thead th {\n",
       "        text-align: right;\n",
       "    }\n",
       "</style>\n",
       "<table border=\"1\" class=\"dataframe\">\n",
       "  <thead>\n",
       "    <tr style=\"text-align: right;\">\n",
       "      <th></th>\n",
       "      <th>Number of tweets</th>\n",
       "      <th>Dates</th>\n",
       "    </tr>\n",
       "  </thead>\n",
       "  <tbody>\n",
       "    <tr>\n",
       "      <th>0</th>\n",
       "      <td>56</td>\n",
       "      <td>8/18/17</td>\n",
       "    </tr>\n",
       "    <tr>\n",
       "      <th>1</th>\n",
       "      <td>3626</td>\n",
       "      <td>8/19/17</td>\n",
       "    </tr>\n",
       "    <tr>\n",
       "      <th>2</th>\n",
       "      <td>2328</td>\n",
       "      <td>8/20/17</td>\n",
       "    </tr>\n",
       "    <tr>\n",
       "      <th>3</th>\n",
       "      <td>1817</td>\n",
       "      <td>8/21/17</td>\n",
       "    </tr>\n",
       "    <tr>\n",
       "      <th>4</th>\n",
       "      <td>4967</td>\n",
       "      <td>8/22/17</td>\n",
       "    </tr>\n",
       "  </tbody>\n",
       "</table>\n",
       "</div>"
      ],
      "text/plain": [
       "   Number of tweets    Dates\n",
       "0                56  8/18/17\n",
       "1              3626  8/19/17\n",
       "2              2328  8/20/17\n",
       "3              1817  8/21/17\n",
       "4              4967  8/22/17"
      ]
     },
     "execution_count": 42,
     "metadata": {},
     "output_type": "execute_result"
    }
   ],
   "source": [
    "twitter_times = pd.read_csv(\"../data/rawdata/Twitter_dates.csv\")\n",
    "twitter_times.head()\n",
    "\n",
    "\n",
    "#rainfall = pd.read_csv(\"../data/rawdata/water_gauge_rain.csv\")\n",
    "#rainfall.head()"
   ]
  },
  {
   "cell_type": "code",
   "execution_count": 43,
   "metadata": {},
   "outputs": [
    {
     "data": {
      "image/png": "[encoded data removed]",
      "text/plain": [
       "<Figure size 432x288 with 1 Axes>"
      ]
     },
     "metadata": {
      "needs_background": "light"
     },
     "output_type": "display_data"
    },
    {
     "data": {
      "text/plain": [
       "<Figure size 432x288 with 0 Axes>"
      ]
     },
     "metadata": {},
     "output_type": "display_data"
    }
   ],
   "source": [
    "y = twitter_times[\"Number of tweets\"]\n",
    "x = twitter_times[\"Dates\"]\n",
    "\n",
    "#import matplotlib.dates as mdates\n",
    "\n",
    "plt.title(\"Hurricane Harvey on Twitter\")\n",
    "plt.xlabel(\"Date\")\n",
    "plt.ylabel(\"Number of tweets\")\n",
    "\n",
    "plt.plot(x,y)\n",
    "#y = np.array([4,4,4,5,5,6,5,5,4,4,4])\n",
    "#x = np.arange(y.shape[0])\n",
    "#my_xticks = np.array(['a','b','c','d','e','f','g','h','i','j','k'])\n",
    "frequency = 5\n",
    "#plt.plot(x, y)\n",
    "plt.xticks(x[::frequency],rotation=30)\n",
    "\n",
    "\n",
    "plt.fill_between(x,y, color=\"blue\", alpha=0.3)\n",
    "\n",
    "plt.show()\n",
    "plt.savefig(\"../images/HurricaneHarveyTweets.png\")"
   ]
  },
  {
   "cell_type": "code",
   "execution_count": 19,
   "metadata": {},
   "outputs": [
    {
     "data": {
      "text/html": [
       "<div>\n",
       "<style scoped>\n",
       "    .dataframe tbody tr th:only-of-type {\n",
       "        vertical-align: middle;\n",
       "    }\n",
       "\n",
       "    .dataframe tbody tr th {\n",
       "        vertical-align: top;\n",
       "    }\n",
       "\n",
       "    .dataframe thead th {\n",
       "        text-align: right;\n",
       "    }\n",
       "</style>\n",
       "<table border=\"1\" class=\"dataframe\">\n",
       "  <thead>\n",
       "    <tr style=\"text-align: right;\">\n",
       "      <th></th>\n",
       "      <th>Date</th>\n",
       "      <th>Dairy Ashford rain</th>\n",
       "      <th>Beltway 8 rain</th>\n",
       "      <th>San Felipe rain</th>\n",
       "      <th>Shepherd rain</th>\n",
       "      <th>Milam rain</th>\n",
       "      <th>Total_rainfall</th>\n",
       "      <th>Avg_rainfall</th>\n",
       "    </tr>\n",
       "  </thead>\n",
       "  <tbody>\n",
       "  </tbody>\n",
       "</table>\n",
       "</div>"
      ],
      "text/plain": [
       "Empty DataFrame\n",
       "Columns: [Date, Dairy Ashford rain, Beltway 8 rain, San Felipe rain, Shepherd rain, Milam rain, Total_rainfall, Avg_rainfall]\n",
       "Index: []"
      ]
     },
     "execution_count": 19,
     "metadata": {},
     "output_type": "execute_result"
    }
   ],
   "source": [
    "rainfall[\"Total_rainfall\"] = rainfall[rainfall.columns].sum(axis=1)\n",
    "rainfall[\"Avg_rainfall\"] = rainfall[\"Total_rainfall\"] / (len(rainfall.columns) - 1)\n",
    "\n",
    "harvey_rainfall = rainfall.truncate(before=\"8/18/2017\", after=\"9/22/2017\")                                \n",
    "harvey_rainfall\n",
    "\n",
    "#x = rainfall[\"Date\"]\n",
    "#y = rainfall[\"Total_rainfall\"]\n",
    "\n",
    "#plt.title(\"Total rainfall in bayou\")\n",
    "#plt.xlabel(\"Date\")\n",
    "#plt.ylabel(\"Rain (inches)\")\n",
    "\n",
    "#plt.fill_between(x,y, color=\"red\", alpha=0.3)\n",
    "#plt.plot(x,y)\n",
    "#plt.show()"
   ]
  },
  {
   "cell_type": "code",
   "execution_count": null,
   "metadata": {},
   "outputs": [],
   "source": [
    "\n"
   ]
  }
 ],
 "metadata": {
  "kernelspec": {
   "display_name": "Python 3",
   "language": "python",
   "name": "python3"
  },
  "language_info": {
   "codemirror_mode": {
    "name": "ipython",
    "version": 3
   },
   "file_extension": ".py",
   "mimetype": "text/x-python",
   "name": "python",
   "nbconvert_exporter": "python",
   "pygments_lexer": "ipython3",
   "version": "3.7.0"
  }
 },
 "nbformat": 4,
 "nbformat_minor": 2
}
