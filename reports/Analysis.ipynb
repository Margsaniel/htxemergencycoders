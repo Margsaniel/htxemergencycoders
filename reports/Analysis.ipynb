{
 "cells": [
  {
   "cell_type": "markdown",
   "metadata": {},
   "source": [
    "# Upstream flooding risk reduction for the next Harvey Buffalo Bayou"
   ]
  },
  {
   "cell_type": "markdown",
   "metadata": {},
   "source": [
    "### What was the elevation and rainfall in the Addicks Reservoir?"
   ]
  },
  {
   "cell_type": "code",
   "execution_count": null,
   "metadata": {},
   "outputs": [],
   "source": []
  },
  {
   "cell_type": "markdown",
   "metadata": {},
   "source": [
    "### What was the elevation and rainfall in the Barkers Reservoir?"
   ]
  },
  {
   "cell_type": "code",
   "execution_count": null,
   "metadata": {},
   "outputs": [],
   "source": []
  },
  {
   "cell_type": "markdown",
   "metadata": {},
   "source": [
    "### What were the gauges reading on the Buffalo Bayou during Harvey?"
   ]
  },
  {
   "cell_type": "code",
   "execution_count": null,
   "metadata": {},
   "outputs": [],
   "source": []
  },
  {
   "cell_type": "markdown",
   "metadata": {},
   "source": [
    "### Was there an impact on social media during Harvey?"
   ]
  },
  {
   "cell_type": "markdown",
   "metadata": {},
   "source": [
    "Through our research, it was a constant find to read that social played an integral part during Hurricane Harvey. The amount of assistance and effort put out by millions of Twitter users alone contributed to the aid of flood victims. Here in the graph below shows the impact on Twitter and hit a peak of about 1M tweets sent on August 28, 2017. This brings a total of 7M tweets in a span of a month.\n"
   ]
  },
  {
   "cell_type": "markdown",
   "metadata": {},
   "source": [
    "![Twitter](images/HurricaneHarveyTweets2.png)"
   ]
  },
  {
   "cell_type": "markdown",
   "metadata": {},
   "source": [
    "### What was the response from the City of Houston in relative to the events of Harvey?"
   ]
  },
  {
   "cell_type": "markdown",
   "metadata": {},
   "source": [
    "The plot below shows the peak of activity on social media and the public on August 28, 2017 and following close behind is the steady incline of service requests that were being sent to the City of Houston. The graph also shows an immediate drop in requests in the middle of the storm. As the days passed after the peak time on August 28th, residents of Houston were then able to sumbit their requests allowing them time to wait for the storm to steady."
   ]
  },
  {
   "cell_type": "markdown",
   "metadata": {},
   "source": [
    "![ServiceRequests](images/SRandTwitter.png)"
   ]
  },
  {
   "cell_type": "markdown",
   "metadata": {},
   "source": [
    "### Was there a correlation between the time of flooding and social media posts?"
   ]
  },
  {
   "cell_type": "code",
   "execution_count": null,
   "metadata": {},
   "outputs": [],
   "source": [
    "The graph shows "
   ]
  },
  {
   "cell_type": "markdown",
   "metadata": {},
   "source": [
    "### What was the test text test?"
   ]
  },
  {
   "cell_type": "code",
   "execution_count": null,
   "metadata": {},
   "outputs": [],
   "source": []
  },
  {
   "cell_type": "markdown",
   "metadata": {},
   "source": [
    "### What was the test text test?"
   ]
  },
  {
   "cell_type": "code",
   "execution_count": null,
   "metadata": {},
   "outputs": [],
   "source": []
  }
 ],
 "metadata": {
  "kernelspec": {
   "display_name": "Python 3",
   "language": "python",
   "name": "python3"
  },
  "language_info": {
   "codemirror_mode": {
    "name": "ipython",
    "version": 3
   },
   "file_extension": ".py",
   "mimetype": "text/x-python",
   "name": "python",
   "nbconvert_exporter": "python",
   "pygments_lexer": "ipython3",
   "version": "3.7.0"
  }
 },
 "nbformat": 4,
 "nbformat_minor": 2
}
