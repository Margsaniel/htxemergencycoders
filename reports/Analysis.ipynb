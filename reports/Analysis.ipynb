{
 "cells": [
  {
   "cell_type": "markdown",
   "metadata": {},
   "source": [
    "# Upstream flooding risk reduction for the next Harvey"
   ]
  },
  {
   "cell_type": "markdown",
   "metadata": {},
   "source": [
    "### What was the elevation and rainfall in the Addicks Reservoir?"
   ]
  },
  {
   "cell_type": "code",
   "execution_count": null,
   "metadata": {},
   "outputs": [],
   "source": []
  },
  {
   "cell_type": "markdown",
   "metadata": {},
   "source": [
    "![Twitter](../images/addicks_reservoir_elevation.png)"
   ]
  },
  {
   "cell_type": "markdown",
   "metadata": {},
   "source": [
    "### What was the elevation and rainfall in the Barkers Reservoir?"
   ]
  },
  {
   "cell_type": "code",
   "execution_count": null,
   "metadata": {},
   "outputs": [],
   "source": []
  },
  {
   "cell_type": "markdown",
   "metadata": {},
   "source": [
    "![Twitter](../images/barker_reservoir_elevation.png)"
   ]
  },
  {
   "cell_type": "markdown",
   "metadata": {},
   "source": [
    "### What were the gauges reading on the Buffalo Bayou during Harvey?"
   ]
  },
  {
   "cell_type": "code",
   "execution_count": null,
   "metadata": {},
   "outputs": [],
   "source": []
  },
  {
   "cell_type": "markdown",
   "metadata": {},
   "source": [
    "![Twitter](../images/buffalo_bayou_elevation.png)"
   ]
  },
  {
   "cell_type": "markdown",
   "metadata": {},
   "source": [
    "### Was there an impact on social media during Harvey?"
   ]
  },
  {
   "cell_type": "markdown",
   "metadata": {},
   "source": [
    "Through our research, it was a constant find to read that social media played an integral part during Hurricane Harvey. The amount of assistance and effort put out by millions of Twitter users alone contributed to the aid of flood victims. Here in the graph below shows the impact on Twitter and hit a peak of about 1M tweets sent on August 28, 2017. This brings a total of 7M tweets in a span of a month."
   ]
  },
  {
   "cell_type": "markdown",
   "metadata": {},
   "source": [
    "![Twitter](../images/HurricaneHarveyTweets3.png)"
   ]
  },
  {
   "cell_type": "markdown",
   "metadata": {},
   "source": [
    "### What was the response from the City of Houston in relative to the events of Harvey?"
   ]
  },
  {
   "cell_type": "markdown",
   "metadata": {},
   "source": [
    "The plot below shows the peak of activity on social media on August 28, 2017 and following close behind is the steady incline of service requests that were being sent to the City of Houston. The graph also shows an immediate drop in requests in the middle of the storm. As the days passed after the peak time on August 28th, residents of Houston were then able to sumbit their requests allowing them time to wait for the storm to steady."
   ]
  },
  {
   "cell_type": "markdown",
   "metadata": {},
   "source": [
    "![ServiceRequests](../images/SRandTwitter.png)"
   ]
  },
  {
   "cell_type": "markdown",
   "metadata": {},
   "source": [
    "### Was there a correlation between the time of flooding and social media posts?"
   ]
  },
  {
   "cell_type": "markdown",
   "metadata": {},
   "source": [
    "The graph below shows the total amount of rainfall captured of all five gauges in the Buffalo Bayou from August 18, 2017 and September 22, 2017. This data shows a direct connection with social media and a pattern of users posting almost immediately following what seemed to be the most eventful day of the week storm. The peak for rainfall is displayed on August 27, soonafter seeing the affects of the flooding came the overwhelming tweets that reached it's peak of roughly 1M tweets."
   ]
  },
  {
   "cell_type": "markdown",
   "metadata": {},
   "source": [
    "![BuffaloTwitter](../images/TwittervsBuffalo1.png)"
   ]
  },
  {
   "cell_type": "markdown",
   "metadata": {},
   "source": [
    "### What was the test text test?"
   ]
  },
  {
   "cell_type": "code",
   "execution_count": null,
   "metadata": {},
   "outputs": [],
   "source": []
  },
  {
   "cell_type": "markdown",
   "metadata": {},
   "source": [
    "### What was the test text test?"
   ]
  },
  {
   "cell_type": "code",
   "execution_count": null,
   "metadata": {},
   "outputs": [],
   "source": []
  }
 ],
 "metadata": {
  "kernelspec": {
   "display_name": "Python 3",
   "language": "python",
   "name": "python3"
  },
  "language_info": {
   "codemirror_mode": {
    "name": "ipython",
    "version": 3
   },
   "file_extension": ".py",
   "mimetype": "text/x-python",
   "name": "python",
   "nbconvert_exporter": "python",
   "pygments_lexer": "ipython3",
   "version": "3.7.0"
  }
 },
 "nbformat": 4,
 "nbformat_minor": 2
}
